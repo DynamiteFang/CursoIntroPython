{
 "cells": [
  {
   "cell_type": "code",
   "execution_count": 6,
   "metadata": {},
   "outputs": [
    {
     "name": "stdout",
     "output_type": "stream",
     "text": [
      "El planeta es Mars\n",
      "Este planeta tiene  2  lunas.\n"
     ]
    }
   ],
   "source": [
    "planet = {\n",
    "'name': 'Mars',\n",
    "'moons': 2 }\n",
    "\n",
    "print ('El planeta es', planet['name'])\n",
    "print ('Este planeta tiene ', planet['moons'], ' lunas.')"
   ]
  },
  {
   "cell_type": "code",
   "execution_count": 11,
   "metadata": {},
   "outputs": [
    {
     "name": "stdout",
     "output_type": "stream",
     "text": [
      "El planeta  Mars posee una circunferencia polar de 6752\n"
     ]
    }
   ],
   "source": [
    "planet ['circumference (km)'] = {\n",
    "    'polar' : 6752,\n",
    "    'equatorial': 6792 }\n",
    "print ('El planeta ', planet['name'], 'posee una circunferencia polar de', planet['circumference (km)']['polar'])"
   ]
  },
  {
   "cell_type": "code",
   "execution_count": 26,
   "metadata": {},
   "outputs": [
    {
     "name": "stdout",
     "output_type": "stream",
     "text": [
      "17.833333333333332\n"
     ]
    }
   ],
   "source": [
    "planet_moons = {\n",
    "    'mercury': 0,\n",
    "    'venus': 0,\n",
    "    'earth': 1,\n",
    "    'mars': 2,\n",
    "    'jupiter': 79,\n",
    "    'saturn': 82,\n",
    "    'uranus': 27,\n",
    "    'neptune': 14,\n",
    "    'pluto': 5,\n",
    "    'haumea': 2,\n",
    "    'makemake': 1,\n",
    "    'eris': 1\n",
    "}\n",
    "\n",
    "moons = planet_moons.values()\n",
    "planets = len(planet_moons.keys())\n",
    "\n",
    "total_moons=0\n",
    "for moon in moons:\n",
    "    total_moons= total_moons + moon\n",
    "\n",
    "average = total_moons / planets\n",
    "print (average)"
   ]
  },
  {
   "cell_type": "code",
   "execution_count": null,
   "metadata": {},
   "outputs": [],
   "source": []
  }
 ],
 "metadata": {
  "interpreter": {
   "hash": "c8036415ae73d2dc3cdec9c5fc67bc75b4b95fe8a843605dd780358e36cc5e69"
  },
  "kernelspec": {
   "display_name": "Python 3.10.1 64-bit",
   "language": "python",
   "name": "python3"
  },
  "language_info": {
   "codemirror_mode": {
    "name": "ipython",
    "version": 3
   },
   "file_extension": ".py",
   "mimetype": "text/x-python",
   "name": "python",
   "nbconvert_exporter": "python",
   "pygments_lexer": "ipython3",
   "version": "3.10.1"
  },
  "orig_nbformat": 4
 },
 "nbformat": 4,
 "nbformat_minor": 2
}
