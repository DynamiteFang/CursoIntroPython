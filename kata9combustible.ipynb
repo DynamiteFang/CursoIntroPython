{
 "cells": [
  {
   "cell_type": "code",
   "execution_count": 33,
   "metadata": {},
   "outputs": [
    {
     "name": "stdout",
     "output_type": "stream",
     "text": [
      "Reporte de combustible:\n",
      "    Promedio: 78.33333333333333%\n",
      "    Tanque principal: 55%\n",
      "    Tanque externo: 80%\n",
      "    Tanque de reserva: 100%\n",
      "   \n"
     ]
    }
   ],
   "source": [
    "def lecturas_combustibles(tanque_principal, tanque_externo, tanque_reserva):\n",
    "    promedio_combustible = (tanque_externo + tanque_principal + tanque_reserva) / 3\n",
    "\n",
    "    return f\"\"\"Reporte de combustible:\n",
    "    Promedio: {promedio_combustible}%\n",
    "    Tanque principal: {tanque_principal}%\n",
    "    Tanque externo: {tanque_externo}%\n",
    "    Tanque de reserva: {tanque_reserva}%\n",
    "   \"\"\"\n",
    "print (lecturas_combustibles (55, 80, 100))"
   ]
  },
  {
   "cell_type": "code",
   "execution_count": 34,
   "metadata": {},
   "outputs": [
    {
     "data": {
      "text/plain": [
       "77.66666666666667"
      ]
     },
     "execution_count": 34,
     "metadata": {},
     "output_type": "execute_result"
    }
   ],
   "source": [
    "def promedio(values):\n",
    "    total=  sum(values)\n",
    "    objtotales= len(values)\n",
    "    return total / objtotales\n",
    "\n",
    "promedio ([45, 89, 99])"
   ]
  },
  {
   "cell_type": "code",
   "execution_count": 38,
   "metadata": {},
   "outputs": [
    {
     "name": "stdout",
     "output_type": "stream",
     "text": [
      "Reporte de combustible:\n",
      "    Promedio de combustibles: 78.33333333333333%\n",
      "    Tanque principal: 55%\n",
      "    Tanque externo: 80%\n",
      "    Tanque de reserva: 100%\n",
      "   \n"
     ]
    }
   ],
   "source": [
    "def lecturas_combustibles(tanque_principal, tanque_externo, tanque_reserva):\n",
    "     return f\"\"\"Reporte de combustible:\n",
    "    Promedio de combustibles: {promedio([tanque_principal, tanque_externo, tanque_reserva])}%\n",
    "    Tanque principal: {tanque_principal}%\n",
    "    Tanque externo: {tanque_externo}%\n",
    "    Tanque de reserva: {tanque_reserva}%\n",
    "   \"\"\"\n",
    "print (lecturas_combustibles (55, 80, 100))\n"
   ]
  },
  {
   "cell_type": "code",
   "execution_count": 41,
   "metadata": {},
   "outputs": [
    {
     "name": "stdout",
     "output_type": "stream",
     "text": [
      "\n",
      "    Bienvenido,\n",
      "    viaje con destino a Venus.\n",
      "    Se estima que el vuelo tendrá una duración de 825 minutos y cnntamos con 4100 litros de combustible para lograrlo.\n",
      "    \n"
     ]
    }
   ],
   "source": [
    "def informe(prelanzamiento, tiempo_vuelo, destino, tanque_externo, tanque_interno):\n",
    "    return f\"\"\"\n",
    "    Bienvenido,\n",
    "    viaje con destino a {destino}.\n",
    "    Se estima que el vuelo tendrá una duración de {prelanzamiento + tiempo_vuelo} minutos y cnntamos con {tanque_interno + tanque_externo} litros de combustible para lograrlo.\n",
    "    \"\"\"\n",
    "\n",
    "print(informe(25, 800, \"Venus\", 1500, 2600))"
   ]
  },
  {
   "cell_type": "code",
   "execution_count": 45,
   "metadata": {},
   "outputs": [
    {
     "name": "stdout",
     "output_type": "stream",
     "text": [
      "\n",
      "    Bienvenido,\n",
      "    viaje con destino a Venus.\n",
      "    Se estima que el vuelo tendrá una duración de 883 minutos.\n",
      "    Se calcula que queda 4100\n",
      "    En el tanque principal quedan 1500 litros de combustivle.\n",
      "En el tanque externo quedan 2600 litros de combustivle.\n",
      "\n"
     ]
    }
   ],
   "source": [
    "def informe(destino, *minutos, **fuel_reservoirs):\n",
    "    reporte = f\"\"\"\n",
    "    Bienvenido,\n",
    "    viaje con destino a {destino}.\n",
    "    Se estima que el vuelo tendrá una duración de {sum(minutos)} minutos.\n",
    "    Se calcula que queda {sum(fuel_reservoirs.values())}\n",
    "    \"\"\"\n",
    "    for tank_name, gallons in fuel_reservoirs.items():\n",
    "        reporte += f\"En el tanque {tank_name} quedan {gallons} litros de combustible.\\n\"\n",
    "    return reporte\n",
    "\n",
    "print(informe(\"Venus\",25, 800, 58, principal=1500, externo=2600))"
   ]
  }
 ],
 "metadata": {
  "interpreter": {
   "hash": "c8036415ae73d2dc3cdec9c5fc67bc75b4b95fe8a843605dd780358e36cc5e69"
  },
  "kernelspec": {
   "display_name": "Python 3.10.1 64-bit",
   "language": "python",
   "name": "python3"
  },
  "language_info": {
   "name": "python",
   "version": "3.10.1"
  },
  "orig_nbformat": 4
 },
 "nbformat": 4,
 "nbformat_minor": 2
}
