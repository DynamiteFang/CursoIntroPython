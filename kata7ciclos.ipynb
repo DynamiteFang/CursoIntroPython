{
 "cells": [
  {
   "cell_type": "code",
   "execution_count": 4,
   "metadata": {},
   "outputs": [
    {
     "name": "stdout",
     "output_type": "stream",
     "text": [
      "Mercurio\n",
      "Venus\n",
      "Tierra\n",
      "Marte\n",
      "Júpiter\n",
      "Saturno\n",
      "Urano\n",
      "Neptuno\n",
      "Plutón\n"
     ]
    }
   ],
   "source": [
    "new_planet = ''\n",
    "planets = []\n",
    "\n",
    "while new_planet.lower() != 'done':\n",
    "    if new_planet:\n",
    "       planets.append(new_planet)\n",
    "    new_planet = input('Ingrese los planetas del Sistema Solar, y escriba \"done\" cuando haya finalizado.')\n",
    "\n",
    "for planet in planets:\n",
    "    print (planet)\n"
   ]
  }
 ],
 "metadata": {
  "interpreter": {
   "hash": "c8036415ae73d2dc3cdec9c5fc67bc75b4b95fe8a843605dd780358e36cc5e69"
  },
  "kernelspec": {
   "display_name": "Python 3.10.1 64-bit",
   "language": "python",
   "name": "python3"
  },
  "language_info": {
   "codemirror_mode": {
    "name": "ipython",
    "version": 3
   },
   "file_extension": ".py",
   "mimetype": "text/x-python",
   "name": "python",
   "nbconvert_exporter": "python",
   "pygments_lexer": "ipython3",
   "version": "3.10.1"
  },
  "orig_nbformat": 4
 },
 "nbformat": 4,
 "nbformat_minor": 2
}
