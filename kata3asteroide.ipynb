{
 "cells": [
  {
   "cell_type": "code",
   "execution_count": 5,
   "metadata": {},
   "outputs": [],
   "source": [
    "a = 97\n",
    "b = 55\n",
    "if a < b:\n",
    "    print(b)"
   ]
  },
  {
   "cell_type": "code",
   "execution_count": 2,
   "metadata": {},
   "outputs": [
    {
     "name": "stdout",
     "output_type": "stream",
     "text": [
      "93\n"
     ]
    }
   ],
   "source": [
    "a = 93\n",
    "b = 27\n",
    "if a >= b:\n",
    "    print(a)"
   ]
  },
  {
   "cell_type": "code",
   "execution_count": 6,
   "metadata": {},
   "outputs": [
    {
     "name": "stdout",
     "output_type": "stream",
     "text": [
      "44\n"
     ]
    }
   ],
   "source": [
    "a = 24\n",
    "b = 44\n",
    "if a <= 0:\n",
    "    print(a)\n",
    "print(b)"
   ]
  },
  {
   "cell_type": "code",
   "execution_count": 7,
   "metadata": {},
   "outputs": [
    {
     "name": "stdout",
     "output_type": "stream",
     "text": [
      "93\n"
     ]
    }
   ],
   "source": [
    "a = 93\n",
    "b = 27\n",
    "if a >= b:\n",
    "    print(a)\n",
    "else:\n",
    "    print(b)"
   ]
  },
  {
   "cell_type": "code",
   "execution_count": 8,
   "metadata": {},
   "outputs": [
    {
     "name": "stdout",
     "output_type": "stream",
     "text": [
      "a es mayor o igual que b\n"
     ]
    }
   ],
   "source": [
    "a = 93\n",
    "b = 27\n",
    "if a >= b:\n",
    "    print(\"a es mayor o igual que b\")\n",
    "elif a == b:\n",
    "    print(\"a es igual que b\")\n"
   ]
  },
  {
   "cell_type": "code",
   "execution_count": 9,
   "metadata": {},
   "outputs": [
    {
     "name": "stdout",
     "output_type": "stream",
     "text": [
      "a es menor que b\n"
     ]
    }
   ],
   "source": [
    "a = 16\n",
    "b = 25\n",
    "c = 27\n",
    "if a > b:\n",
    "    if b > c:\n",
    "        print (\"a es mayor que b y b es mayor que c\")\n",
    "    else: \n",
    "        print (\"a es mayor que b y menor que c\")\n",
    "elif a == b:\n",
    "    print (\"a es igual que b\")\n",
    "else:\n",
    "    print (\"a es menor que b\")"
   ]
  },
  {
   "cell_type": "code",
   "execution_count": 10,
   "metadata": {},
   "outputs": [],
   "source": [
    "a = 23\n",
    "b = 34\n",
    "if a == 34 and b == 34:\n",
    "    print (a + b)"
   ]
  },
  {
   "cell_type": "code",
   "execution_count": 29,
   "metadata": {},
   "outputs": [
    {
     "name": "stdout",
     "output_type": "stream",
     "text": [
      "falta de aceite en el motor\n"
     ]
    }
   ],
   "source": [
    "a=450\n",
    "b=25\n",
    "if a > 100 and b > 50:\n",
    "    print(\"niveles óptimos\")\n",
    "else:\n",
    "    print (\"falta de aceite en el motor\")"
   ]
  },
  {
   "cell_type": "code",
   "execution_count": 30,
   "metadata": {},
   "outputs": [
    {
     "name": "stdout",
     "output_type": "stream",
     "text": [
      "checar niveles\n"
     ]
    }
   ],
   "source": [
    "a=450\n",
    "b=25\n",
    "if a > 100 and b > 50:\n",
    "    print(\"niveles óptimos\")\n",
    "elif a > 200 and b < 50:\n",
    "    print (\"checar niveles\")"
   ]
  },
  {
   "cell_type": "code",
   "execution_count": 34,
   "metadata": {},
   "outputs": [
    {
     "name": "stdout",
     "output_type": "stream",
     "text": [
      "ADVERTENCIA, RIESGO INMIMENTE DE IMPACTO DE ASTEROIDE.\n"
     ]
    }
   ],
   "source": [
    "asteroide = 49\n",
    "if asteroide > 25:\n",
    "    print (\"ADVERTENCIA, RIESGO INMIMENTE DE IMPACTO DE ASTEROIDE.\")\n",
    "else:\n",
    "    print (\"No hay riesgo de asteroide en este momento.\")"
   ]
  },
  {
   "cell_type": "code",
   "execution_count": 39,
   "metadata": {},
   "outputs": [
    {
     "name": "stdout",
     "output_type": "stream",
     "text": [
      "No hay riesgo de asteroide en este momento.\n"
     ]
    }
   ],
   "source": [
    "asteroide = 19\n",
    "if asteroide > 20:\n",
    "    print (\"Se recomienda buscar un rayo de luz en el cielo para determinar si usted está en zona de riesgo.\")\n",
    "elif asteroide == 20:\n",
    "    print (\"Se recomienda buscar un rayo de luz en el cielo para determinar si usted está en zona de riesgo.\")\n",
    "else:\n",
    "    print (\"No hay riesgo de asteroide en este momento.\")"
   ]
  },
  {
   "cell_type": "code",
   "execution_count": 52,
   "metadata": {},
   "outputs": [
    {
     "name": "stdout",
     "output_type": "stream",
     "text": [
      "ADVERTENCIA. Se recomienda buscar refugio ahora mismo.\n",
      "No hay riesgo por asteroide en este momento.\n"
     ]
    }
   ],
   "source": [
    "velocidadasteroide = 25\n",
    "tamañoasteroide= 20\n",
    "if velocidadasteroide >= 20 and velocidadasteroide < 25:\n",
    "    print (\"Se recomienda mirar al cielo en busca de un rayo para determinar si usted está en zona de riesgo.\")\n",
    "elif velocidadasteroide >= 25:\n",
    "        print (\"ADVERTENCIA. Se recomienda buscar refugio ahora mismo.\")\n",
    "else:\n",
    "    print (\"No hay riesgo de asteroide ahora mismo.\")\n",
    "\n",
    "if tamañoasteroide >=25 and tamañoasteroide < 100:\n",
    "    print (\"RIESGO INMINENTE DE IMPACTO POR ASTEROIDE.\")\n",
    "elif tamañoasteroide <25:\n",
    "    print (\"No hay riesgo por asteroide en este momento.\")"
   ]
  }
 ],
 "metadata": {
  "interpreter": {
   "hash": "c8036415ae73d2dc3cdec9c5fc67bc75b4b95fe8a843605dd780358e36cc5e69"
  },
  "kernelspec": {
   "display_name": "Python 3.10.1 64-bit",
   "language": "python",
   "name": "python3"
  },
  "language_info": {
   "codemirror_mode": {
    "name": "ipython",
    "version": 3
   },
   "file_extension": ".py",
   "mimetype": "text/x-python",
   "name": "python",
   "nbconvert_exporter": "python",
   "pygments_lexer": "ipython3",
   "version": "3.10.1"
  },
  "orig_nbformat": 4
 },
 "nbformat": 4,
 "nbformat_minor": 2
}
